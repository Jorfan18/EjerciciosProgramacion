{
 "cells": [
  {
   "cell_type": "markdown",
   "id": "5c34cec9",
   "metadata": {},
   "source": [
    "**Algoritmos**\n"
   ]
  },
  {
   "cell_type": "code",
   "execution_count": 1,
   "id": "4109c428",
   "metadata": {},
   "outputs": [
    {
     "name": "stdout",
     "output_type": "stream",
     "text": [
      "The Zen of Python, by Tim Peters\n",
      "\n",
      "Beautiful is better than ugly.\n",
      "Explicit is better than implicit.\n",
      "Simple is better than complex.\n",
      "Complex is better than complicated.\n",
      "Flat is better than nested.\n",
      "Sparse is better than dense.\n",
      "Readability counts.\n",
      "Special cases aren't special enough to break the rules.\n",
      "Although practicality beats purity.\n",
      "Errors should never pass silently.\n",
      "Unless explicitly silenced.\n",
      "In the face of ambiguity, refuse the temptation to guess.\n",
      "There should be one-- and preferably only one --obvious way to do it.\n",
      "Although that way may not be obvious at first unless you're Dutch.\n",
      "Now is better than never.\n",
      "Although never is often better than *right* now.\n",
      "If the implementation is hard to explain, it's a bad idea.\n",
      "If the implementation is easy to explain, it may be a good idea.\n",
      "Namespaces are one honking great idea -- let's do more of those!\n"
     ]
    }
   ],
   "source": [
    "import this"
   ]
  },
  {
   "cell_type": "markdown",
   "id": "9603f096",
   "metadata": {},
   "source": [
    "## Variables \n",
    "Empezaremos hablando de algunas instrucciones elementales de Python, crearemos nuestros primeros programas, también llamdos scripts que posteriormente serán interpretados. Mencionaremos algunos tipos elementales de datos y los guardaremos en un espacio de memoría mediante variables para transformarlos y generar nueva información.\n",
    "\n",
    "Veamos algunos tipos de datos e interactuamos:"
   ]
  },
  {
   "cell_type": "code",
   "execution_count": 2,
   "id": "63344795",
   "metadata": {},
   "outputs": [
    {
     "data": {
      "text/plain": [
       "8"
      ]
     },
     "execution_count": 2,
     "metadata": {},
     "output_type": "execute_result"
    }
   ],
   "source": [
    "## Números Enteros \n",
    "\n",
    "8"
   ]
  },
  {
   "cell_type": "code",
   "execution_count": 3,
   "id": "383bc16c",
   "metadata": {},
   "outputs": [
    {
     "data": {
      "text/plain": [
       "int"
      ]
     },
     "execution_count": 3,
     "metadata": {},
     "output_type": "execute_result"
    }
   ],
   "source": [
    "type(8)"
   ]
  },
  {
   "cell_type": "code",
   "execution_count": 4,
   "id": "2b0a1173",
   "metadata": {},
   "outputs": [
    {
     "data": {
      "text/plain": [
       "3.5"
      ]
     },
     "execution_count": 4,
     "metadata": {},
     "output_type": "execute_result"
    }
   ],
   "source": [
    "## Decimales\n",
    "\n",
    "3.5"
   ]
  },
  {
   "cell_type": "code",
   "execution_count": 5,
   "id": "8570ff51",
   "metadata": {},
   "outputs": [
    {
     "data": {
      "text/plain": [
       "float"
      ]
     },
     "execution_count": 5,
     "metadata": {},
     "output_type": "execute_result"
    }
   ],
   "source": [
    "type(3.5)"
   ]
  },
  {
   "cell_type": "code",
   "execution_count": 8,
   "id": "d17afa58",
   "metadata": {},
   "outputs": [
    {
     "data": {
      "text/plain": [
       "-2.5"
      ]
     },
     "execution_count": 8,
     "metadata": {},
     "output_type": "execute_result"
    }
   ],
   "source": [
    "## Negativos\n",
    "-2.5"
   ]
  },
  {
   "cell_type": "code",
   "execution_count": 9,
   "id": "44ad5d51",
   "metadata": {},
   "outputs": [
    {
     "data": {
      "text/plain": [
       "float"
      ]
     },
     "execution_count": 9,
     "metadata": {},
     "output_type": "execute_result"
    }
   ],
   "source": [
    "type(-2.5)"
   ]
  },
  {
   "cell_type": "code",
   "execution_count": 10,
   "id": "b4a480d6",
   "metadata": {},
   "outputs": [
    {
     "data": {
      "text/plain": [
       "int"
      ]
     },
     "execution_count": 10,
     "metadata": {},
     "output_type": "execute_result"
    }
   ],
   "source": [
    "type(-15)"
   ]
  },
  {
   "cell_type": "markdown",
   "id": "85cf63bc",
   "metadata": {},
   "source": [
    "Los números interactuan con nosotros de diferentes maneras pero la más importante es através de sus operaciones:"
   ]
  },
  {
   "cell_type": "code",
   "execution_count": 11,
   "id": "81940a3e",
   "metadata": {},
   "outputs": [
    {
     "data": {
      "text/plain": [
       "5"
      ]
     },
     "execution_count": 11,
     "metadata": {},
     "output_type": "execute_result"
    }
   ],
   "source": [
    "## Suma\n",
    "3+2"
   ]
  },
  {
   "cell_type": "code",
   "execution_count": 12,
   "id": "edd8328b",
   "metadata": {},
   "outputs": [
    {
     "data": {
      "text/plain": [
       "7.2"
      ]
     },
     "execution_count": 12,
     "metadata": {},
     "output_type": "execute_result"
    }
   ],
   "source": [
    "3.2+4"
   ]
  },
  {
   "cell_type": "code",
   "execution_count": 13,
   "id": "724b1a27",
   "metadata": {},
   "outputs": [
    {
     "data": {
      "text/plain": [
       "-1"
      ]
     },
     "execution_count": 13,
     "metadata": {},
     "output_type": "execute_result"
    }
   ],
   "source": [
    "## Resta\n",
    "1-2"
   ]
  },
  {
   "cell_type": "code",
   "execution_count": 14,
   "id": "0328648d",
   "metadata": {},
   "outputs": [
    {
     "data": {
      "text/plain": [
       "20"
      ]
     },
     "execution_count": 14,
     "metadata": {},
     "output_type": "execute_result"
    }
   ],
   "source": [
    "## Multiplicación\n",
    "5*4"
   ]
  },
  {
   "cell_type": "code",
   "execution_count": 15,
   "id": "ea380555",
   "metadata": {},
   "outputs": [
    {
     "data": {
      "text/plain": [
       "2.0"
      ]
     },
     "execution_count": 15,
     "metadata": {},
     "output_type": "execute_result"
    }
   ],
   "source": [
    "## División\n",
    "6/3"
   ]
  },
  {
   "cell_type": "code",
   "execution_count": 16,
   "id": "1cc27a18",
   "metadata": {},
   "outputs": [
    {
     "data": {
      "text/plain": [
       "0.5"
      ]
     },
     "execution_count": 16,
     "metadata": {},
     "output_type": "execute_result"
    }
   ],
   "source": [
    "1/2"
   ]
  },
  {
   "cell_type": "code",
   "execution_count": 19,
   "id": "74b8cbc9",
   "metadata": {},
   "outputs": [
    {
     "ename": "ZeroDivisionError",
     "evalue": "division by zero",
     "output_type": "error",
     "traceback": [
      "\u001b[1;31m---------------------------------------------------------------------------\u001b[0m",
      "\u001b[1;31mZeroDivisionError\u001b[0m                         Traceback (most recent call last)",
      "\u001b[1;32mC:\\Users\\SALACO~1\\AppData\\Local\\Temp/ipykernel_10184/1580332654.py\u001b[0m in \u001b[0;36m<module>\u001b[1;34m\u001b[0m\n\u001b[1;32m----> 1\u001b[1;33m \u001b[1;36m4\u001b[0m\u001b[1;33m/\u001b[0m\u001b[1;36m0\u001b[0m\u001b[1;33m\u001b[0m\u001b[1;33m\u001b[0m\u001b[0m\n\u001b[0m",
      "\u001b[1;31mZeroDivisionError\u001b[0m: division by zero"
     ]
    }
   ],
   "source": [
    "4/0"
   ]
  },
  {
   "cell_type": "code",
   "execution_count": 21,
   "id": "62f8acd3",
   "metadata": {},
   "outputs": [
    {
     "name": "stdout",
     "output_type": "stream",
     "text": [
      "9\n",
      "1\n",
      "20\n",
      "0.5\n",
      "2.0\n"
     ]
    }
   ],
   "source": [
    "print(4+5)\n",
    "print(3-2)\n",
    "print(4*5)\n",
    "print(1/2)\n",
    "print(4/2)"
   ]
  },
  {
   "cell_type": "code",
   "execution_count": 22,
   "id": "28de508c",
   "metadata": {},
   "outputs": [
    {
     "data": {
      "text/plain": [
       "8"
      ]
     },
     "execution_count": 22,
     "metadata": {},
     "output_type": "execute_result"
    }
   ],
   "source": [
    "#Potencia\n",
    "2**3"
   ]
  },
  {
   "cell_type": "code",
   "execution_count": 23,
   "id": "6e3298af",
   "metadata": {},
   "outputs": [
    {
     "data": {
      "text/plain": [
       "512"
      ]
     },
     "execution_count": 23,
     "metadata": {},
     "output_type": "execute_result"
    }
   ],
   "source": [
    "2**9"
   ]
  },
  {
   "cell_type": "code",
   "execution_count": 24,
   "id": "2a887ff3",
   "metadata": {},
   "outputs": [
    {
     "data": {
      "text/plain": [
       "5.0"
      ]
     },
     "execution_count": 24,
     "metadata": {},
     "output_type": "execute_result"
    }
   ],
   "source": [
    "#Radciales (Potencias de fracciones)\n",
    "25**(1/2)"
   ]
  },
  {
   "cell_type": "code",
   "execution_count": 25,
   "id": "add535ce",
   "metadata": {},
   "outputs": [
    {
     "data": {
      "text/plain": [
       "6"
      ]
     },
     "execution_count": 25,
     "metadata": {},
     "output_type": "execute_result"
    }
   ],
   "source": [
    "#División entera(cociente)\n",
    "20//3"
   ]
  },
  {
   "cell_type": "code",
   "execution_count": 26,
   "id": "cc01988b",
   "metadata": {},
   "outputs": [
    {
     "data": {
      "text/plain": [
       "2"
      ]
     },
     "execution_count": 26,
     "metadata": {},
     "output_type": "execute_result"
    }
   ],
   "source": [
    "#División Entera(Residuo)\n",
    "20%3"
   ]
  },
  {
   "cell_type": "code",
   "execution_count": 27,
   "id": "516a3241",
   "metadata": {},
   "outputs": [
    {
     "data": {
      "text/plain": [
       "30.0"
      ]
     },
     "execution_count": 27,
     "metadata": {},
     "output_type": "execute_result"
    }
   ],
   "source": [
    "#Porcentajes\n",
    "0.15*200"
   ]
  },
  {
   "cell_type": "markdown",
   "id": "594d648c",
   "metadata": {},
   "source": [
    "### Cadenas de Caracteres o strings\n",
    "\n",
    "Corresponde a las cadenas de texto para evitar confusión con las diferentes funciones y/o variables de Python se almacenan entre comillas dobles o somples (\"\" o '')"
   ]
  },
  {
   "cell_type": "code",
   "execution_count": 28,
   "id": "03a2f780",
   "metadata": {},
   "outputs": [
    {
     "data": {
      "text/plain": [
       "'Hola externadistas'"
      ]
     },
     "execution_count": 28,
     "metadata": {},
     "output_type": "execute_result"
    }
   ],
   "source": [
    "\"Hola externadistas\""
   ]
  },
  {
   "cell_type": "code",
   "execution_count": 29,
   "id": "fea00f6b",
   "metadata": {},
   "outputs": [
    {
     "data": {
      "text/plain": [
       "'hola externadistas'"
      ]
     },
     "execution_count": 29,
     "metadata": {},
     "output_type": "execute_result"
    }
   ],
   "source": [
    "'hola externadistas'"
   ]
  },
  {
   "cell_type": "code",
   "execution_count": 31,
   "id": "8d09a886",
   "metadata": {},
   "outputs": [
    {
     "name": "stdout",
     "output_type": "stream",
     "text": [
      "hola externadistas\n"
     ]
    }
   ],
   "source": [
    "print(\"hola externadistas\")"
   ]
  },
  {
   "cell_type": "code",
   "execution_count": 32,
   "id": "5be81a80",
   "metadata": {},
   "outputs": [],
   "source": [
    "#Operaciones entre textos (suma -concatenación)"
   ]
  },
  {
   "cell_type": "code",
   "execution_count": 34,
   "id": "37f2edb5",
   "metadata": {},
   "outputs": [
    {
     "data": {
      "text/plain": [
       "'Hola-----Externado'"
      ]
     },
     "execution_count": 34,
     "metadata": {},
     "output_type": "execute_result"
    }
   ],
   "source": [
    "\"Hola\"+\"-----\"+\"Externado\""
   ]
  },
  {
   "cell_type": "code",
   "execution_count": 37,
   "id": "6efc0598",
   "metadata": {},
   "outputs": [
    {
     "data": {
      "text/plain": [
       "str"
      ]
     },
     "execution_count": 37,
     "metadata": {},
     "output_type": "execute_result"
    }
   ],
   "source": [
    "type(\"hola externadistas\")"
   ]
  },
  {
   "cell_type": "markdown",
   "id": "4a2b50b1",
   "metadata": {},
   "source": [
    "### Variables\n",
    "\n",
    "Sirven para guardar mi información en Python, tranajan de la siguiente manera:\n",
    "\n",
    "[Nombre_variable]=[Valor_de_la_variable]"
   ]
  },
  {
   "cell_type": "code",
   "execution_count": 35,
   "id": "c4a6d709",
   "metadata": {},
   "outputs": [],
   "source": [
    "x=20"
   ]
  },
  {
   "cell_type": "code",
   "execution_count": 36,
   "id": "64fb5eee",
   "metadata": {},
   "outputs": [
    {
     "data": {
      "text/plain": [
       "22"
      ]
     },
     "execution_count": 36,
     "metadata": {},
     "output_type": "execute_result"
    }
   ],
   "source": [
    "x+2"
   ]
  },
  {
   "cell_type": "code",
   "execution_count": 38,
   "id": "68276b71",
   "metadata": {},
   "outputs": [
    {
     "ename": "TypeError",
     "evalue": "unsupported operand type(s) for +: 'int' and 'str'",
     "output_type": "error",
     "traceback": [
      "\u001b[1;31m---------------------------------------------------------------------------\u001b[0m",
      "\u001b[1;31mTypeError\u001b[0m                                 Traceback (most recent call last)",
      "\u001b[1;32mC:\\Users\\SALACO~1\\AppData\\Local\\Temp/ipykernel_10184/2268779147.py\u001b[0m in \u001b[0;36m<module>\u001b[1;34m\u001b[0m\n\u001b[1;32m----> 1\u001b[1;33m \u001b[0mx\u001b[0m\u001b[1;33m+\u001b[0m\u001b[1;34m\"hola\"\u001b[0m\u001b[1;33m\u001b[0m\u001b[1;33m\u001b[0m\u001b[0m\n\u001b[0m",
      "\u001b[1;31mTypeError\u001b[0m: unsupported operand type(s) for +: 'int' and 'str'"
     ]
    }
   ],
   "source": [
    "x+\"hola\""
   ]
  },
  {
   "cell_type": "code",
   "execution_count": null,
   "id": "034c80ae",
   "metadata": {},
   "outputs": [],
   "source": []
  }
 ],
 "metadata": {
  "kernelspec": {
   "display_name": "Python 3 (ipykernel)",
   "language": "python",
   "name": "python3"
  },
  "language_info": {
   "codemirror_mode": {
    "name": "ipython",
    "version": 3
   },
   "file_extension": ".py",
   "mimetype": "text/x-python",
   "name": "python",
   "nbconvert_exporter": "python",
   "pygments_lexer": "ipython3",
   "version": "3.9.7"
  }
 },
 "nbformat": 4,
 "nbformat_minor": 5
}
